{
  "cells": [
    {
      "cell_type": "markdown",
      "metadata": {
        "id": "view-in-github",
        "colab_type": "text"
      },
      "source": [
        "<a href=\"https://colab.research.google.com/github/JulioLaz/robot_trading_bitcoin/blob/main/robot_trading.ipynb\" target=\"_parent\"><img src=\"https://colab.research.google.com/assets/colab-badge.svg\" alt=\"Open In Colab\"/></a>"
      ]
    },
    {
      "cell_type": "markdown",
      "metadata": {
        "id": "ljODwobRSl9_"
      },
      "source": [
        "# Robot Trading"
      ]
    },
    {
      "cell_type": "markdown",
      "source": [
        "##Importacion de bibliotecas y libreias:"
      ],
      "metadata": {
        "id": "KyCf3LZYQizQ"
      }
    },
    {
      "cell_type": "code",
      "execution_count": 1,
      "metadata": {
        "colab": {
          "base_uri": "https://localhost:8080/"
        },
        "id": "1pj4H6dJS0RS",
        "outputId": "61dcc060-67e5-45a1-a3fa-226680bafab5"
      },
      "outputs": [
        {
          "output_type": "stream",
          "name": "stdout",
          "text": [
            "Python 3.10.11\n",
            "------\n",
            "Name: pandas\n",
            "Version: 1.5.3\n",
            "------\n",
            "Name: numpy\n",
            "Version: 1.22.4\n",
            "------\n",
            "Name: matplotlib\n",
            "Version: 3.7.1\n"
          ]
        }
      ],
      "source": [
        "!python -V\n",
        "print('------')\n",
        "!pip show Pandas | grep 'Name\\|Version'\n",
        "print('------')\n",
        "!pip show Numpy | grep 'Name\\|Version'\n",
        "print('------')\n",
        "!pip show Matplotlib | grep 'Name\\|Version'"
      ]
    },
    {
      "cell_type": "code",
      "execution_count": 30,
      "metadata": {
        "id": "hx5a78k4UkMD"
      },
      "outputs": [],
      "source": [
        "import yfinance as yf\n",
        "import pandas as pd\n",
        "import seaborn as sns\n",
        "import matplotlib.pyplot as plt\n",
        "import numpy as np\n",
        "from pandas._libs.lib import count_level_2d\n",
        "import requests\n",
        "from bs4 import BeautifulSoup\n",
        "import yfinance as yf\n",
        "from textblob import TextBlob\n",
        "import pandas as pd\n",
        "import time\n",
        "from IPython.display import clear_output\n",
        "import datetime\n",
        "import pytz"
      ]
    },
    {
      "cell_type": "markdown",
      "source": [
        "# Obtener y tratar datos:"
      ],
      "metadata": {
        "id": "xkCWROo1Sy_2"
      }
    },
    {
      "cell_type": "markdown",
      "source": [
        "###1 - Obtener datos desde yahoo finance"
      ],
      "metadata": {
        "id": "ejgUoR6ErIWc"
      }
    },
    {
      "cell_type": "markdown",
      "metadata": {
        "id": "WKrJ-7CrE4Tn"
      },
      "source": [
        "### 2 - Nuevo df con columnas: DataTime(index) - Close - Volume\n"
      ]
    },
    {
      "cell_type": "markdown",
      "metadata": {
        "id": "acJ2Bjh4Gcc-"
      },
      "source": [
        "###3 - Eliminación de filas con volume=0"
      ]
    },
    {
      "cell_type": "markdown",
      "metadata": {
        "id": "wz7fYk-0PNeJ"
      },
      "source": [
        "###4 - identificar índices duplicados y trátalos dejando sólo índices únicos"
      ]
    },
    {
      "cell_type": "markdown",
      "metadata": {
        "id": "FGDoF65TRVwb"
      },
      "source": [
        "###5 - buscar valores nulos en la columna Close y trátalos:"
      ]
    },
    {
      "cell_type": "code",
      "execution_count": 3,
      "metadata": {
        "id": "x1h5G-ZAEWsv"
      },
      "outputs": [],
      "source": [
        "#función obtencion y reacondicionamiento de datos:\n",
        "\n",
        "def get_data():\n",
        "    # 1 - Obtener datos desde yahoo finance:\n",
        "    # Obtener los datos del último año con intervalos de 5 minutos\n",
        "    symbol = \"BTC-USD\"\n",
        "    period = \"7d\"\n",
        "    interval = \"5m\"\n",
        "    df = yf.download(symbol, period=period, interval=interval)\n",
        "\n",
        "    # Guardar los datos en un dataframe\n",
        "    df_bitcoin = pd.DataFrame(df)\n",
        "\n",
        "    # 2 - Crear df con columnas: DataTime - Close - Volume\n",
        "    df_bitcoin_limpio= df_bitcoin[['Close','Volume']]\n",
        "\n",
        "    # 3 - Eliminar filas con volume=0\n",
        "    df = df_bitcoin_limpio[df_bitcoin_limpio['Volume'] != 0]\n",
        "\n",
        "    # 4 - Encontrar los índices duplicados\n",
        "    duplicados = df.index.duplicated()\n",
        "\n",
        "    # Eliminar las filas duplicadas\n",
        "    df = df[~duplicados]\n",
        "\n",
        "    # 5 - Elimina filas con Close=0\n",
        "    df_bitcoin_limpio = df[df['Close'] != 0]\n",
        "\n",
        "    return df_bitcoin_limpio"
      ]
    },
    {
      "cell_type": "code",
      "source": [
        "get_data()"
      ],
      "metadata": {
        "colab": {
          "base_uri": "https://localhost:8080/",
          "height": 472
        },
        "id": "GUPGjlLQJtPO",
        "outputId": "8c4e7f9c-b91d-4097-885f-5ebfbf750962"
      },
      "execution_count": 4,
      "outputs": [
        {
          "output_type": "stream",
          "name": "stdout",
          "text": [
            "\r[*********************100%***********************]  1 of 1 completed\n"
          ]
        },
        {
          "output_type": "execute_result",
          "data": {
            "text/plain": [
              "                                  Close    Volume\n",
              "Datetime                                         \n",
              "2023-05-05 00:30:00+00:00  28912.441406   3324928\n",
              "2023-05-05 00:35:00+00:00  28913.117188   6749184\n",
              "2023-05-05 00:40:00+00:00  28924.064453  34026496\n",
              "2023-05-05 00:55:00+00:00  28945.613281  23319552\n",
              "2023-05-05 01:05:00+00:00  28920.660156  10272768\n",
              "...                                 ...       ...\n",
              "2023-05-11 10:40:00+00:00  27488.263672  23431168\n",
              "2023-05-11 10:45:00+00:00  27499.878906  12462080\n",
              "2023-05-11 10:50:00+00:00  27494.019531  10536960\n",
              "2023-05-11 10:55:00+00:00  27479.691406   2404352\n",
              "2023-05-11 11:00:00+00:00  27478.972656    360448\n",
              "\n",
              "[956 rows x 2 columns]"
            ],
            "text/html": [
              "\n",
              "  <div id=\"df-891ecfdf-25cd-4e7f-a8e6-65ec93b8e263\">\n",
              "    <div class=\"colab-df-container\">\n",
              "      <div>\n",
              "<style scoped>\n",
              "    .dataframe tbody tr th:only-of-type {\n",
              "        vertical-align: middle;\n",
              "    }\n",
              "\n",
              "    .dataframe tbody tr th {\n",
              "        vertical-align: top;\n",
              "    }\n",
              "\n",
              "    .dataframe thead th {\n",
              "        text-align: right;\n",
              "    }\n",
              "</style>\n",
              "<table border=\"1\" class=\"dataframe\">\n",
              "  <thead>\n",
              "    <tr style=\"text-align: right;\">\n",
              "      <th></th>\n",
              "      <th>Close</th>\n",
              "      <th>Volume</th>\n",
              "    </tr>\n",
              "    <tr>\n",
              "      <th>Datetime</th>\n",
              "      <th></th>\n",
              "      <th></th>\n",
              "    </tr>\n",
              "  </thead>\n",
              "  <tbody>\n",
              "    <tr>\n",
              "      <th>2023-05-05 00:30:00+00:00</th>\n",
              "      <td>28912.441406</td>\n",
              "      <td>3324928</td>\n",
              "    </tr>\n",
              "    <tr>\n",
              "      <th>2023-05-05 00:35:00+00:00</th>\n",
              "      <td>28913.117188</td>\n",
              "      <td>6749184</td>\n",
              "    </tr>\n",
              "    <tr>\n",
              "      <th>2023-05-05 00:40:00+00:00</th>\n",
              "      <td>28924.064453</td>\n",
              "      <td>34026496</td>\n",
              "    </tr>\n",
              "    <tr>\n",
              "      <th>2023-05-05 00:55:00+00:00</th>\n",
              "      <td>28945.613281</td>\n",
              "      <td>23319552</td>\n",
              "    </tr>\n",
              "    <tr>\n",
              "      <th>2023-05-05 01:05:00+00:00</th>\n",
              "      <td>28920.660156</td>\n",
              "      <td>10272768</td>\n",
              "    </tr>\n",
              "    <tr>\n",
              "      <th>...</th>\n",
              "      <td>...</td>\n",
              "      <td>...</td>\n",
              "    </tr>\n",
              "    <tr>\n",
              "      <th>2023-05-11 10:40:00+00:00</th>\n",
              "      <td>27488.263672</td>\n",
              "      <td>23431168</td>\n",
              "    </tr>\n",
              "    <tr>\n",
              "      <th>2023-05-11 10:45:00+00:00</th>\n",
              "      <td>27499.878906</td>\n",
              "      <td>12462080</td>\n",
              "    </tr>\n",
              "    <tr>\n",
              "      <th>2023-05-11 10:50:00+00:00</th>\n",
              "      <td>27494.019531</td>\n",
              "      <td>10536960</td>\n",
              "    </tr>\n",
              "    <tr>\n",
              "      <th>2023-05-11 10:55:00+00:00</th>\n",
              "      <td>27479.691406</td>\n",
              "      <td>2404352</td>\n",
              "    </tr>\n",
              "    <tr>\n",
              "      <th>2023-05-11 11:00:00+00:00</th>\n",
              "      <td>27478.972656</td>\n",
              "      <td>360448</td>\n",
              "    </tr>\n",
              "  </tbody>\n",
              "</table>\n",
              "<p>956 rows × 2 columns</p>\n",
              "</div>\n",
              "      <button class=\"colab-df-convert\" onclick=\"convertToInteractive('df-891ecfdf-25cd-4e7f-a8e6-65ec93b8e263')\"\n",
              "              title=\"Convert this dataframe to an interactive table.\"\n",
              "              style=\"display:none;\">\n",
              "        \n",
              "  <svg xmlns=\"http://www.w3.org/2000/svg\" height=\"24px\"viewBox=\"0 0 24 24\"\n",
              "       width=\"24px\">\n",
              "    <path d=\"M0 0h24v24H0V0z\" fill=\"none\"/>\n",
              "    <path d=\"M18.56 5.44l.94 2.06.94-2.06 2.06-.94-2.06-.94-.94-2.06-.94 2.06-2.06.94zm-11 1L8.5 8.5l.94-2.06 2.06-.94-2.06-.94L8.5 2.5l-.94 2.06-2.06.94zm10 10l.94 2.06.94-2.06 2.06-.94-2.06-.94-.94-2.06-.94 2.06-2.06.94z\"/><path d=\"M17.41 7.96l-1.37-1.37c-.4-.4-.92-.59-1.43-.59-.52 0-1.04.2-1.43.59L10.3 9.45l-7.72 7.72c-.78.78-.78 2.05 0 2.83L4 21.41c.39.39.9.59 1.41.59.51 0 1.02-.2 1.41-.59l7.78-7.78 2.81-2.81c.8-.78.8-2.07 0-2.86zM5.41 20L4 18.59l7.72-7.72 1.47 1.35L5.41 20z\"/>\n",
              "  </svg>\n",
              "      </button>\n",
              "      \n",
              "  <style>\n",
              "    .colab-df-container {\n",
              "      display:flex;\n",
              "      flex-wrap:wrap;\n",
              "      gap: 12px;\n",
              "    }\n",
              "\n",
              "    .colab-df-convert {\n",
              "      background-color: #E8F0FE;\n",
              "      border: none;\n",
              "      border-radius: 50%;\n",
              "      cursor: pointer;\n",
              "      display: none;\n",
              "      fill: #1967D2;\n",
              "      height: 32px;\n",
              "      padding: 0 0 0 0;\n",
              "      width: 32px;\n",
              "    }\n",
              "\n",
              "    .colab-df-convert:hover {\n",
              "      background-color: #E2EBFA;\n",
              "      box-shadow: 0px 1px 2px rgba(60, 64, 67, 0.3), 0px 1px 3px 1px rgba(60, 64, 67, 0.15);\n",
              "      fill: #174EA6;\n",
              "    }\n",
              "\n",
              "    [theme=dark] .colab-df-convert {\n",
              "      background-color: #3B4455;\n",
              "      fill: #D2E3FC;\n",
              "    }\n",
              "\n",
              "    [theme=dark] .colab-df-convert:hover {\n",
              "      background-color: #434B5C;\n",
              "      box-shadow: 0px 1px 3px 1px rgba(0, 0, 0, 0.15);\n",
              "      filter: drop-shadow(0px 1px 2px rgba(0, 0, 0, 0.3));\n",
              "      fill: #FFFFFF;\n",
              "    }\n",
              "  </style>\n",
              "\n",
              "      <script>\n",
              "        const buttonEl =\n",
              "          document.querySelector('#df-891ecfdf-25cd-4e7f-a8e6-65ec93b8e263 button.colab-df-convert');\n",
              "        buttonEl.style.display =\n",
              "          google.colab.kernel.accessAllowed ? 'block' : 'none';\n",
              "\n",
              "        async function convertToInteractive(key) {\n",
              "          const element = document.querySelector('#df-891ecfdf-25cd-4e7f-a8e6-65ec93b8e263');\n",
              "          const dataTable =\n",
              "            await google.colab.kernel.invokeFunction('convertToInteractive',\n",
              "                                                     [key], {});\n",
              "          if (!dataTable) return;\n",
              "\n",
              "          const docLinkHtml = 'Like what you see? Visit the ' +\n",
              "            '<a target=\"_blank\" href=https://colab.research.google.com/notebooks/data_table.ipynb>data table notebook</a>'\n",
              "            + ' to learn more about interactive tables.';\n",
              "          element.innerHTML = '';\n",
              "          dataTable['output_type'] = 'display_data';\n",
              "          await google.colab.output.renderOutput(dataTable, element);\n",
              "          const docLink = document.createElement('div');\n",
              "          docLink.innerHTML = docLinkHtml;\n",
              "          element.appendChild(docLink);\n",
              "        }\n",
              "      </script>\n",
              "    </div>\n",
              "  </div>\n",
              "  "
            ]
          },
          "metadata": {},
          "execution_count": 4
        }
      ]
    },
    {
      "cell_type": "markdown",
      "source": [
        "##Cálculos de valores estadísticos:"
      ],
      "metadata": {
        "id": "LUVv7nV3S3xg"
      }
    },
    {
      "cell_type": "code",
      "execution_count": 5,
      "metadata": {
        "id": "22xMkP_4EX40"
      },
      "outputs": [],
      "source": [
        "#Cálculos de valores estadísticos: df_bitcoin_limpio\n",
        "def describir():\n",
        "    df=get_data()\n",
        "    media_bitcoin=int(df['Close'].mean())\n",
        "    max=int(df['Close'].max())\n",
        "    min=int(df['Close'].min())\n",
        "    count=df['Close'].count()\n",
        "    # print('Cantidad:',count, 'Media:',media_bitcoin,'Min:',min, 'Max:',max)\n",
        "    return [media_bitcoin,max,min,count]"
      ]
    },
    {
      "cell_type": "code",
      "source": [
        "describir()"
      ],
      "metadata": {
        "colab": {
          "base_uri": "https://localhost:8080/"
        },
        "id": "0e8rIwfaSw4w",
        "outputId": "1ff0a2e7-b34f-4cd9-84db-da7fa3acbbf6"
      },
      "execution_count": 6,
      "outputs": [
        {
          "output_type": "stream",
          "name": "stdout",
          "text": [
            "\r[*********************100%***********************]  1 of 1 completed\n"
          ]
        },
        {
          "output_type": "execute_result",
          "data": {
            "text/plain": [
              "[28322, 29808, 27056, 956]"
            ]
          },
          "metadata": {},
          "execution_count": 6
        }
      ]
    },
    {
      "cell_type": "markdown",
      "metadata": {
        "id": "-Pilgo99VAxB"
      },
      "source": [
        "#identificar y eliminar los outliers"
      ]
    },
    {
      "cell_type": "markdown",
      "source": [
        "## utiliza un gráfico de boxplot:"
      ],
      "metadata": {
        "id": "GmsEH8F1TNMm"
      }
    },
    {
      "cell_type": "code",
      "execution_count": 7,
      "metadata": {
        "id": "hIhbwci3UP4k"
      },
      "outputs": [],
      "source": [
        "def boxplot_grafico():\n",
        "    df=get_data()\n",
        "\n",
        "    sns.set(style=\"whitegrid\", rc={\"figure.figsize\":(12,6)})\n",
        "\n",
        "    cuartiles = [0, 0.25, 0.5, 0.75, 1]\n",
        "\n",
        "    valores = df['Close'].quantile(cuartiles)\n",
        "\n",
        "    colores = ['#4c72b0', '#55a868', '#c44e52', '#8172b2']\n",
        "\n",
        "    sns.boxplot(y='Close', data=df, orient='v', palette=colores, whis=2, width=0.25)\n",
        "\n",
        "    plt.axhline(y=valores[0], linestyle='--', color='#FFC0CB')\n",
        "    plt.axhline(y=valores[1], linestyle='--', color='#FFC0CB')\n",
        "    plt.axhline(y=df['Close'].mean(), linestyle='--', color='#FFC0CB')\n",
        "\n",
        "    plt.text(-0.2, valores[0], f'Mínimo: {valores[0]:.0f}', fontsize=10, ha='center', va='bottom', color='#4682B4')\n",
        "    plt.text(-0.2, valores[0.25], f'Q1: {valores[0.25]:.0f}', fontsize=10, ha='center', va='top', color='#1f77b4')\n",
        "    plt.text(-0.2, valores[0.75], f'Q3: {valores[0.75]:.0f}', fontsize=10, ha='center', va='bottom', color='#1f77b4')\n",
        "    plt.text(-0.2, valores[1], f'Máximo: {valores[1]:.0f}', fontsize=10, ha='center', va='bottom', color='#4682B4')\n",
        "    plt.text(-0.2, df['Close'].mean(), f'Media: {df[\"Close\"].mean():.0f}', fontsize=10, ha='center', va='top', color='#1f77b4')\n",
        "\n",
        "    mediana = np.median(df['Close'])\n",
        "    plt.text(-0.2, mediana, f'Mediana: {mediana:.0f}', fontsize=10, ha='center', va='bottom', color='black')\n",
        "\n",
        "    plt.ylim(valores[0]-0.1*(valores[1]-valores[0]), valores[1]+0.1*(valores[1]-valores[0]))\n",
        "\n",
        "    plt.title('Distribución de precios de Bitcoin en dólares', fontsize=16)\n",
        "\n",
        "    return plt.show()\n"
      ]
    },
    {
      "cell_type": "markdown",
      "source": [
        "##Grafico boxplot:"
      ],
      "metadata": {
        "id": "bqi7VknSRThW"
      }
    },
    {
      "cell_type": "code",
      "source": [
        "boxplot_grafico()"
      ],
      "metadata": {
        "colab": {
          "base_uri": "https://localhost:8080/",
          "height": 418
        },
        "id": "KXNr_e22tRtN",
        "outputId": "21fd3603-bcbe-433a-c03b-aeab4d690010"
      },
      "execution_count": 8,
      "outputs": [
        {
          "output_type": "stream",
          "name": "stdout",
          "text": [
            "\r[*********************100%***********************]  1 of 1 completed\n"
          ]
        },
        {
          "output_type": "display_data",
          "data": {
            "text/plain": [
              "<Figure size 1200x600 with 1 Axes>"
            ],
            "image/png": "[encoded data removed]"
          },
          "metadata": {}
        }
      ]
    },
    {
      "cell_type": "markdown",
      "metadata": {
        "id": "iDbHY1PCzrMy"
      },
      "source": [
        "#Delimitando datos con query: entre Q1 y Q3"
      ]
    },
    {
      "cell_type": "code",
      "execution_count": 9,
      "metadata": {
        "id": "5Plg_zgWzwcg"
      },
      "outputs": [],
      "source": [
        "def between_quartiles():\n",
        "    df=get_data()\n",
        "    cuartiles = [0, 0.25, 0.5, 0.75, 1]\n",
        "    valores = df['Close'].quantile(cuartiles)\n",
        "    df_bitcoin_cuartiles = df.query('Close > ' + str(int(valores[0.25])) + ' & Close < ' + str(int(valores[0.75])))    \n",
        "    \n",
        "    # return df_bitcoin_cuartiles['Close']\n",
        "    return df_bitcoin_cuartiles"
      ]
    },
    {
      "cell_type": "code",
      "source": [
        "between_quartiles()"
      ],
      "metadata": {
        "colab": {
          "base_uri": "https://localhost:8080/",
          "height": 472
        },
        "id": "g2HTD2i9LBM9",
        "outputId": "d53be04d-db1a-4492-881b-a364319f07fe"
      },
      "execution_count": 10,
      "outputs": [
        {
          "output_type": "stream",
          "name": "stdout",
          "text": [
            "\r[*********************100%***********************]  1 of 1 completed\n"
          ]
        },
        {
          "output_type": "execute_result",
          "data": {
            "text/plain": [
              "                                  Close    Volume\n",
              "Datetime                                         \n",
              "2023-05-05 00:30:00+00:00  28912.441406   3324928\n",
              "2023-05-05 00:35:00+00:00  28913.117188   6749184\n",
              "2023-05-05 00:40:00+00:00  28924.064453  34026496\n",
              "2023-05-05 00:55:00+00:00  28945.613281  23319552\n",
              "2023-05-05 01:05:00+00:00  28920.660156  10272768\n",
              "...                                 ...       ...\n",
              "2023-05-10 23:30:00+00:00  27625.246094   1019904\n",
              "2023-05-10 23:35:00+00:00  27632.380859  21362688\n",
              "2023-05-10 23:40:00+00:00  27623.425781  16363520\n",
              "2023-05-10 23:45:00+00:00  27624.427734   3901440\n",
              "2023-05-11 00:05:00+00:00  27621.716797   2836480\n",
              "\n",
              "[478 rows x 2 columns]"
            ],
            "text/html": [
              "\n",
              "  <div id=\"df-1b298fd2-eac3-4b64-b449-38f07258512e\">\n",
              "    <div class=\"colab-df-container\">\n",
              "      <div>\n",
              "<style scoped>\n",
              "    .dataframe tbody tr th:only-of-type {\n",
              "        vertical-align: middle;\n",
              "    }\n",
              "\n",
              "    .dataframe tbody tr th {\n",
              "        vertical-align: top;\n",
              "    }\n",
              "\n",
              "    .dataframe thead th {\n",
              "        text-align: right;\n",
              "    }\n",
              "</style>\n",
              "<table border=\"1\" class=\"dataframe\">\n",
              "  <thead>\n",
              "    <tr style=\"text-align: right;\">\n",
              "      <th></th>\n",
              "      <th>Close</th>\n",
              "      <th>Volume</th>\n",
              "    </tr>\n",
              "    <tr>\n",
              "      <th>Datetime</th>\n",
              "      <th></th>\n",
              "      <th></th>\n",
              "    </tr>\n",
              "  </thead>\n",
              "  <tbody>\n",
              "    <tr>\n",
              "      <th>2023-05-05 00:30:00+00:00</th>\n",
              "      <td>28912.441406</td>\n",
              "      <td>3324928</td>\n",
              "    </tr>\n",
              "    <tr>\n",
              "      <th>2023-05-05 00:35:00+00:00</th>\n",
              "      <td>28913.117188</td>\n",
              "      <td>6749184</td>\n",
              "    </tr>\n",
              "    <tr>\n",
              "      <th>2023-05-05 00:40:00+00:00</th>\n",
              "      <td>28924.064453</td>\n",
              "      <td>34026496</td>\n",
              "    </tr>\n",
              "    <tr>\n",
              "      <th>2023-05-05 00:55:00+00:00</th>\n",
              "      <td>28945.613281</td>\n",
              "      <td>23319552</td>\n",
              "    </tr>\n",
              "    <tr>\n",
              "      <th>2023-05-05 01:05:00+00:00</th>\n",
              "      <td>28920.660156</td>\n",
              "      <td>10272768</td>\n",
              "    </tr>\n",
              "    <tr>\n",
              "      <th>...</th>\n",
              "      <td>...</td>\n",
              "      <td>...</td>\n",
              "    </tr>\n",
              "    <tr>\n",
              "      <th>2023-05-10 23:30:00+00:00</th>\n",
              "      <td>27625.246094</td>\n",
              "      <td>1019904</td>\n",
              "    </tr>\n",
              "    <tr>\n",
              "      <th>2023-05-10 23:35:00+00:00</th>\n",
              "      <td>27632.380859</td>\n",
              "      <td>21362688</td>\n",
              "    </tr>\n",
              "    <tr>\n",
              "      <th>2023-05-10 23:40:00+00:00</th>\n",
              "      <td>27623.425781</td>\n",
              "      <td>16363520</td>\n",
              "    </tr>\n",
              "    <tr>\n",
              "      <th>2023-05-10 23:45:00+00:00</th>\n",
              "      <td>27624.427734</td>\n",
              "      <td>3901440</td>\n",
              "    </tr>\n",
              "    <tr>\n",
              "      <th>2023-05-11 00:05:00+00:00</th>\n",
              "      <td>27621.716797</td>\n",
              "      <td>2836480</td>\n",
              "    </tr>\n",
              "  </tbody>\n",
              "</table>\n",
              "<p>478 rows × 2 columns</p>\n",
              "</div>\n",
              "      <button class=\"colab-df-convert\" onclick=\"convertToInteractive('df-1b298fd2-eac3-4b64-b449-38f07258512e')\"\n",
              "              title=\"Convert this dataframe to an interactive table.\"\n",
              "              style=\"display:none;\">\n",
              "        \n",
              "  <svg xmlns=\"http://www.w3.org/2000/svg\" height=\"24px\"viewBox=\"0 0 24 24\"\n",
              "       width=\"24px\">\n",
              "    <path d=\"M0 0h24v24H0V0z\" fill=\"none\"/>\n",
              "    <path d=\"M18.56 5.44l.94 2.06.94-2.06 2.06-.94-2.06-.94-.94-2.06-.94 2.06-2.06.94zm-11 1L8.5 8.5l.94-2.06 2.06-.94-2.06-.94L8.5 2.5l-.94 2.06-2.06.94zm10 10l.94 2.06.94-2.06 2.06-.94-2.06-.94-.94-2.06-.94 2.06-2.06.94z\"/><path d=\"M17.41 7.96l-1.37-1.37c-.4-.4-.92-.59-1.43-.59-.52 0-1.04.2-1.43.59L10.3 9.45l-7.72 7.72c-.78.78-.78 2.05 0 2.83L4 21.41c.39.39.9.59 1.41.59.51 0 1.02-.2 1.41-.59l7.78-7.78 2.81-2.81c.8-.78.8-2.07 0-2.86zM5.41 20L4 18.59l7.72-7.72 1.47 1.35L5.41 20z\"/>\n",
              "  </svg>\n",
              "      </button>\n",
              "      \n",
              "  <style>\n",
              "    .colab-df-container {\n",
              "      display:flex;\n",
              "      flex-wrap:wrap;\n",
              "      gap: 12px;\n",
              "    }\n",
              "\n",
              "    .colab-df-convert {\n",
              "      background-color: #E8F0FE;\n",
              "      border: none;\n",
              "      border-radius: 50%;\n",
              "      cursor: pointer;\n",
              "      display: none;\n",
              "      fill: #1967D2;\n",
              "      height: 32px;\n",
              "      padding: 0 0 0 0;\n",
              "      width: 32px;\n",
              "    }\n",
              "\n",
              "    .colab-df-convert:hover {\n",
              "      background-color: #E2EBFA;\n",
              "      box-shadow: 0px 1px 2px rgba(60, 64, 67, 0.3), 0px 1px 3px 1px rgba(60, 64, 67, 0.15);\n",
              "      fill: #174EA6;\n",
              "    }\n",
              "\n",
              "    [theme=dark] .colab-df-convert {\n",
              "      background-color: #3B4455;\n",
              "      fill: #D2E3FC;\n",
              "    }\n",
              "\n",
              "    [theme=dark] .colab-df-convert:hover {\n",
              "      background-color: #434B5C;\n",
              "      box-shadow: 0px 1px 3px 1px rgba(0, 0, 0, 0.15);\n",
              "      filter: drop-shadow(0px 1px 2px rgba(0, 0, 0, 0.3));\n",
              "      fill: #FFFFFF;\n",
              "    }\n",
              "  </style>\n",
              "\n",
              "      <script>\n",
              "        const buttonEl =\n",
              "          document.querySelector('#df-1b298fd2-eac3-4b64-b449-38f07258512e button.colab-df-convert');\n",
              "        buttonEl.style.display =\n",
              "          google.colab.kernel.accessAllowed ? 'block' : 'none';\n",
              "\n",
              "        async function convertToInteractive(key) {\n",
              "          const element = document.querySelector('#df-1b298fd2-eac3-4b64-b449-38f07258512e');\n",
              "          const dataTable =\n",
              "            await google.colab.kernel.invokeFunction('convertToInteractive',\n",
              "                                                     [key], {});\n",
              "          if (!dataTable) return;\n",
              "\n",
              "          const docLinkHtml = 'Like what you see? Visit the ' +\n",
              "            '<a target=\"_blank\" href=https://colab.research.google.com/notebooks/data_table.ipynb>data table notebook</a>'\n",
              "            + ' to learn more about interactive tables.';\n",
              "          element.innerHTML = '';\n",
              "          dataTable['output_type'] = 'display_data';\n",
              "          await google.colab.output.renderOutput(dataTable, element);\n",
              "          const docLink = document.createElement('div');\n",
              "          docLink.innerHTML = docLinkHtml;\n",
              "          element.appendChild(docLink);\n",
              "        }\n",
              "      </script>\n",
              "    </div>\n",
              "  </div>\n",
              "  "
            ]
          },
          "metadata": {},
          "execution_count": 10
        }
      ]
    },
    {
      "cell_type": "markdown",
      "metadata": {
        "id": "KgRytUofWCOK"
      },
      "source": [
        "##Nuevo BOXPLOT desde Q1 a Q3"
      ]
    },
    {
      "cell_type": "code",
      "execution_count": 11,
      "metadata": {
        "id": "fHVxWS7RWONs"
      },
      "outputs": [],
      "source": [
        "def new_boxplot():\n",
        "    df_new= between_quartiles()\n",
        "\n",
        "    sns.set(style=\"whitegrid\", rc={\"figure.figsize\":(12,6)})\n",
        "\n",
        "    cuartiles = [0, 0.25, 0.5, 0.75, 1]\n",
        "\n",
        "    valores = df_new['Close'].quantile(cuartiles)\n",
        "\n",
        "    colores = ['#4c72b0', '#55a868', '#c44e52', '#8172b2']\n",
        "\n",
        "    sns.boxplot(y='Close', data=df_new, orient='v', palette=colores, whis=2, width=0.25)\n",
        "\n",
        "    plt.axhline(y=valores[0], linestyle='--', color='#FFC0CB')\n",
        "    plt.axhline(y=valores[1], linestyle='--', color='#FFC0CB')\n",
        "    plt.axhline(y=df_new['Close'].mean(), linestyle='--', color='#FFC0CB')\n",
        "\n",
        "    plt.text(-0.2, valores[0], f'Mínimo: {valores[0]:.0f}', fontsize=10, ha='center', va='bottom', color='#4682B4')\n",
        "    plt.text(-0.2, valores[0.25], f'Q1: {valores[0.25]:.0f}', fontsize=10, ha='center', va='top', color='#1f77b4')\n",
        "    plt.text(-0.2, valores[0.75], f'Q3: {valores[0.75]:.0f}', fontsize=10, ha='center', va='bottom', color='#1f77b4')\n",
        "    plt.text(-0.2, valores[1], f'Máximo: {valores[1]:.0f}', fontsize=10, ha='center', va='bottom', color='#4682B4')\n",
        "    plt.text(-0.2, df_new['Close'].mean(), f'Media: {df_new[\"Close\"].mean():.0f}', fontsize=10, ha='center', va='top', color='#1f77b4')\n",
        "\n",
        "    mediana = np.median(df_new['Close'])\n",
        "    plt.text(-0.2, mediana, f'Mediana: {mediana:.0f}', fontsize=10, ha='center', va='bottom', color='black')\n",
        "\n",
        "    plt.ylim(valores[0]-0.1*(valores[1]-valores[0]), valores[1]+0.1*(valores[1]-valores[0]))\n",
        "\n",
        "    plt.title('Distribución de precios de Bitcoin en dólares', fontsize=16)\n",
        "\n",
        "    return  plt.show();\n"
      ]
    },
    {
      "cell_type": "code",
      "source": [
        "new_boxplot()"
      ],
      "metadata": {
        "colab": {
          "base_uri": "https://localhost:8080/",
          "height": 418
        },
        "id": "utTee43yKu8Y",
        "outputId": "424f8a8e-b256-4c91-9b15-51bf7b9740a1"
      },
      "execution_count": 12,
      "outputs": [
        {
          "output_type": "stream",
          "name": "stdout",
          "text": [
            "\r[*********************100%***********************]  1 of 1 completed\n"
          ]
        },
        {
          "output_type": "display_data",
          "data": {
            "text/plain": [
              "<Figure size 1200x600 with 1 Axes>"
            ],
            "image/png": "[encoded data removed]"
          },
          "metadata": {}
        }
      ]
    },
    {
      "cell_type": "markdown",
      "metadata": {
        "id": "RHcNQA0Yk3vp"
      },
      "source": []
    },
    {
      "cell_type": "markdown",
      "metadata": {
        "id": "4Rc8BtwUzMQA"
      },
      "source": [
        "###Guardar en drive el df_bitcoin"
      ]
    },
    {
      "cell_type": "code",
      "execution_count": 13,
      "metadata": {
        "id": "i3aKxiEKzWKC",
        "colab": {
          "base_uri": "https://localhost:8080/"
        },
        "outputId": "b30cff00-e8cf-4fc6-ddc9-705b39dee3aa"
      },
      "outputs": [
        {
          "output_type": "stream",
          "name": "stdout",
          "text": [
            "\r[*********************100%***********************]  1 of 1 completed\n"
          ]
        }
      ],
      "source": [
        "df_new= between_quartiles()\n",
        "df_new.to_csv('/content/drive/MyDrive/BitCoin/bitcoin.csv',sep=';',index='False')"
      ]
    },
    {
      "cell_type": "markdown",
      "metadata": {
        "id": "S8lDte_RcBXS"
      },
      "source": [
        "#Extraer Tendencias:"
      ]
    },
    {
      "cell_type": "code",
      "execution_count": 14,
      "metadata": {
        "colab": {
          "base_uri": "https://localhost:8080/"
        },
        "id": "XavcEvhvU1f8",
        "outputId": "5fd679da-0c37-4225-b883-ae193188b21a"
      },
      "outputs": [
        {
          "output_type": "execute_result",
          "data": {
            "text/plain": [
              "[27478, 'Baja', '0.49%']"
            ]
          },
          "metadata": {},
          "execution_count": 14
        }
      ],
      "source": [
        "def extraer_tendencias():\n",
        "    global precio_actual, tendencia\n",
        "    \n",
        "    # Hacer la petición GET a la página web\n",
        "    page = requests.get('https://coinmarketcap.com/')\n",
        "    \n",
        "    # Crear el objeto BeautifulSoup a partir del HTML de la página web\n",
        "    soup = BeautifulSoup(page.content, 'html.parser')\n",
        "    \n",
        "    # Encontrar el precio actual del Bitcoin\n",
        "    precio = soup.find('a', {'href': '/currencies/bitcoin/markets/'}).find('span').text.strip().replace('$', '').replace(',', '')\n",
        "\n",
        "    # Convertir el precio a un número en coma flotante\n",
        "    precio_actual = float(precio)\n",
        "\n",
        "    # Análisis de tendencia a partir del icono up o down\n",
        "    span_element = soup.find('span', {'class': ['icon-Caret-up', 'icon-Caret-down']})\n",
        "    if 'icon-Caret-up' in span_element['class']:\n",
        "        tendencia = 'Alta'\n",
        "    else:\n",
        "        tendencia = 'Baja'\n",
        "    \n",
        "    # Encontrar la variación del precio en la última hora\n",
        "    porcentaje = soup.find('span', {'class': 'sc-97d6d2ca-0 bQjSqS'}).text.strip().replace('$', '').replace(',', '')\n",
        "    \n",
        "    # Actualizar la variable global tendencia\n",
        "    return [int(precio_actual), tendencia,porcentaje]\n",
        "    \n",
        "extraer_tendencias()\n"
      ]
    },
    {
      "cell_type": "markdown",
      "metadata": {
        "id": "JGPblTPob0v6"
      },
      "source": [
        "#Tomar decisiones"
      ]
    },
    {
      "cell_type": "code",
      "execution_count": 15,
      "metadata": {
        "id": "tg16MO0fcHwa"
      },
      "outputs": [],
      "source": [
        "# Variables globales\n",
        "symbol = \"BTC-USD\"\n",
        "period = \"7d\" # días\n",
        "interval = \"5m\" # minutos\n",
        "\n",
        "\n",
        "def tomar_decisiones():\n",
        "    global symbol, period, interval, df_bitcoin, precio_actual, tendencia, media_bitcoin, algoritmo_decision\n",
        "    \n",
        "    tendencia=extraer_tendencias()[1]\n",
        "    df_bitcoin=between_quartiles()\n",
        "    # Calcular el precio promedio\n",
        "    media_bitcoin = between_quartiles()['Close'].mean()\n",
        "    \n",
        "    # Tomar la última fila del dataframe para obtener el precio actual\n",
        "    precio_actual = extraer_tendencias()[0]\n",
        "    \n",
        "    # Determinar la tendencia en base a la diferencia entre el precio actual y el precio de hace 1 hora\n",
        "    diferencia = precio_actual - between_quartiles()['Close'].iloc[-12]\n",
        "    if diferencia > 0:\n",
        "        tendencia = 'Alta'\n",
        "    elif diferencia < 0:\n",
        "        tendencia = 'Baja'\n",
        "    else:\n",
        "        tendencia = 'Neutral'\n",
        "    \n",
        "    # Aplicar el criterio de decisión\n",
        "    if precio_actual >= media_bitcoin and tendencia == 'Baja':\n",
        "        algoritmo_decision = 'Vender'\n",
        "    elif precio_actual < media_bitcoin and tendencia == 'Alta':\n",
        "        algoritmo_decision = 'Comprar'\n",
        "    else:\n",
        "        algoritmo_decision = 'Esperar'\n",
        "    \n",
        "    return algoritmo_decision\n"
      ]
    },
    {
      "cell_type": "code",
      "source": [
        "def print_algoritmo_decision():\n",
        "    print('Decisión:', tomar_decisiones()),print('Tendencia:',tendencia),print('Media:',int(media_bitcoin)),print('Precio:',int(precio_actual))\n",
        "    return"
      ],
      "metadata": {
        "id": "j6x0Uk4KWEJZ"
      },
      "execution_count": 16,
      "outputs": []
    },
    {
      "cell_type": "code",
      "source": [
        "print_algoritmo_decision()"
      ],
      "metadata": {
        "colab": {
          "base_uri": "https://localhost:8080/"
        },
        "id": "p80t4cc6Wlwo",
        "outputId": "e2baeb97-fdf9-4d55-f5a0-7333106c38e1"
      },
      "execution_count": 17,
      "outputs": [
        {
          "output_type": "stream",
          "name": "stdout",
          "text": [
            "[*********************100%***********************]  1 of 1 completed\n",
            "[*********************100%***********************]  1 of 1 completed\n",
            "[*********************100%***********************]  1 of 1 completed\n",
            "Decisión: Esperar\n",
            "Tendencia: Baja\n",
            "Media: 28225\n",
            "Precio: 27478\n"
          ]
        }
      ]
    },
    {
      "cell_type": "markdown",
      "source": [
        "#Gráfico de lineas para ver la tendencia"
      ],
      "metadata": {
        "id": "ixypV2aooAy5"
      }
    },
    {
      "cell_type": "code",
      "execution_count": 56,
      "metadata": {
        "id": "_VPaOHA4iqYu"
      },
      "outputs": [],
      "source": [
        "import matplotlib.pyplot as plt\n",
        "\n",
        "def graficar():\n",
        "    # crear la figura y los ejes\n",
        "    fig, ax = plt.subplots()\n",
        "\n",
        "    # trazar los datos en los ejes\n",
        "    ax.plot(between_quartiles().index, between_quartiles()[\"Close\"])\n",
        "\n",
        "    # trazar una línea que indique el valor medio\n",
        "    mean_price = between_quartiles()[\"Close\"].mean()\n",
        "    ax.axhline(mean_price, color=\"red\", linestyle=\"--\")\n",
        "\n",
        "    # personalizar la apariencia del gráfico\n",
        "    ax.set_xlabel(\"Fecha\")\n",
        "    ax.set_ylabel(\"Precio\")\n",
        "    ax.set_title(\"Evolución del Bitcoin a lo largo del tiempo\")\n",
        "\n",
        "    # mostrar la decisión del algoritmo_decision\n",
        "    decision = tomar_decisiones()\n",
        "\n",
        "    plt.annotate(f\"Decisión: {decision}\", xy=(between_quartiles().index[-1], between_quartiles()['Close'][-1]), \n",
        "                xytext=(-50, 50),textcoords='offset points', fontsize=10, color='red')\n",
        "    # Mostrar decision en grafico\n",
        "    ax.text(0.85, 0.95, f\"Decisión: {decision}\", transform=ax.transAxes, fontsize=20, color='red',\n",
        "            verticalalignment='top',horizontalalignment='center', bbox=dict(boxstyle='round', facecolor='yellow', alpha=0.5))\n",
        "\n",
        "    # mostrar el gráfico\n",
        "    # plt.show()\n",
        "    return plt.show()"
      ]
    },
    {
      "cell_type": "code",
      "source": [
        "graficar()"
      ],
      "metadata": {
        "colab": {
          "base_uri": "https://localhost:8080/",
          "height": 572
        },
        "id": "ddhXkQbpoS3m",
        "outputId": "1aa0320a-126b-4008-83f6-e8d60f79bc96"
      },
      "execution_count": 57,
      "outputs": [
        {
          "output_type": "stream",
          "name": "stdout",
          "text": [
            "[*********************100%***********************]  1 of 1 completed\n",
            "[*********************100%***********************]  1 of 1 completed\n",
            "[*********************100%***********************]  1 of 1 completed\n",
            "[*********************100%***********************]  1 of 1 completed\n",
            "[*********************100%***********************]  1 of 1 completed\n",
            "[*********************100%***********************]  1 of 1 completed\n",
            "[*********************100%***********************]  1 of 1 completed\n",
            "[*********************100%***********************]  1 of 1 completed\n"
          ]
        },
        {
          "output_type": "display_data",
          "data": {
            "text/plain": [
              "<Figure size 1200x600 with 1 Axes>"
            ],
            "image/png": "[encoded data removed]"
          },
          "metadata": {}
        }
      ]
    },
    {
      "cell_type": "markdown",
      "source": [
        "#Automatizar:"
      ],
      "metadata": {
        "id": "XSOmo3RQT5VX"
      }
    },
    {
      "cell_type": "code",
      "source": [
        "def automatizar():\n",
        "      contador=0\n",
        "      while True:\n",
        "          contador+=1\n",
        "          get_data()\n",
        "          between_quartiles()\n",
        "          extraer_tendencias()\n",
        "          tomar_decisiones()\n",
        "          print_algoritmo_decision()\n",
        "          \n",
        "          tz = pytz.timezone('America/Argentina/Buenos_Aires')\n",
        "          now = datetime.datetime.now(tz)\n",
        "          print(\"Hora de verificación:\", now.strftime(\"%H:%M:%S\"))\n",
        "          print(\"Ejecuciones: \" ,contador,\" \\n\")\n",
        "          print(\"-----------------------------------\\n\")\n",
        "          graficar()\n",
        "          clear_output(wait=True)\n",
        "\n",
        "          time.sleep(300) #ciclo cada 300 segundos\n",
        "      return"
      ],
      "metadata": {
        "id": "ipKjhK8MObgw"
      },
      "execution_count": 38,
      "outputs": []
    },
    {
      "cell_type": "code",
      "source": [
        "automatizar()"
      ],
      "metadata": {
        "colab": {
          "base_uri": "https://localhost:8080/",
          "height": 269
        },
        "id": "i6FYRi_2ZrwS",
        "outputId": "dbf28ae7-09a4-47b6-a6b0-150175528424"
      },
      "execution_count": 39,
      "outputs": [
        {
          "output_type": "error",
          "ename": "KeyboardInterrupt",
          "evalue": "ignored",
          "traceback": [
            "\u001b[0;31m---------------------------------------------------------------------------\u001b[0m",
            "\u001b[0;31mKeyboardInterrupt\u001b[0m                         Traceback (most recent call last)",
            "\u001b[0;32m<ipython-input-39-7690ee3c9c62>\u001b[0m in \u001b[0;36m<cell line: 1>\u001b[0;34m()\u001b[0m\n\u001b[0;32m----> 1\u001b[0;31m \u001b[0mautomatizar\u001b[0m\u001b[0;34m(\u001b[0m\u001b[0;34m)\u001b[0m\u001b[0;34m\u001b[0m\u001b[0;34m\u001b[0m\u001b[0m\n\u001b[0m",
            "\u001b[0;32m<ipython-input-38-c79ea351693b>\u001b[0m in \u001b[0;36mautomatizar\u001b[0;34m()\u001b[0m\n\u001b[1;32m     17\u001b[0m           \u001b[0mclear_output\u001b[0m\u001b[0;34m(\u001b[0m\u001b[0mwait\u001b[0m\u001b[0;34m=\u001b[0m\u001b[0;32mTrue\u001b[0m\u001b[0;34m)\u001b[0m\u001b[0;34m\u001b[0m\u001b[0;34m\u001b[0m\u001b[0m\n\u001b[1;32m     18\u001b[0m \u001b[0;34m\u001b[0m\u001b[0m\n\u001b[0;32m---> 19\u001b[0;31m           \u001b[0mtime\u001b[0m\u001b[0;34m.\u001b[0m\u001b[0msleep\u001b[0m\u001b[0;34m(\u001b[0m\u001b[0;36m300\u001b[0m\u001b[0;34m)\u001b[0m \u001b[0;31m#ciclo cada 300 segundos\u001b[0m\u001b[0;34m\u001b[0m\u001b[0;34m\u001b[0m\u001b[0m\n\u001b[0m\u001b[1;32m     20\u001b[0m       \u001b[0;32mreturn\u001b[0m\u001b[0;34m\u001b[0m\u001b[0;34m\u001b[0m\u001b[0m\n",
            "\u001b[0;31mKeyboardInterrupt\u001b[0m: "
          ]
        }
      ]
    }
  ],
  "metadata": {
    "colab": {
      "provenance": [],
      "mount_file_id": "1juFpz1LM-hcAk3Pb8JKmq_diWWWHVU-z",
      "authorship_tag": "ABX9TyN0rs9wftYVaa1TYwctRS9I",
      "include_colab_link": true
    },
    "kernelspec": {
      "display_name": "Python 3",
      "name": "python3"
    },
    "language_info": {
      "name": "python"
    }
  },
  "nbformat": 4,
  "nbformat_minor": 0
}